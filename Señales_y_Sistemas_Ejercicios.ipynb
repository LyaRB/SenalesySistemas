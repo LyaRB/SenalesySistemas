{
  "nbformat": 4,
  "nbformat_minor": 0,
  "metadata": {
    "colab": {
      "provenance": [],
      "authorship_tag": "ABX9TyOD9tOyt3bH4IxG2nsRVRcg",
      "include_colab_link": true
    },
    "kernelspec": {
      "name": "python3",
      "display_name": "Python 3"
    },
    "language_info": {
      "name": "python"
    }
  },
  "cells": [
    {
      "cell_type": "markdown",
      "metadata": {
        "id": "view-in-github",
        "colab_type": "text"
      },
      "source": [
        "<a href=\"https://colab.research.google.com/github/LyaRB/SenalesySistemas/blob/main/Se%C3%B1ales_y_Sistemas_Ejercicios.ipynb\" target=\"_parent\"><img src=\"https://colab.research.google.com/assets/colab-badge.svg\" alt=\"Open In Colab\"/></a>"
      ]
    },
    {
      "cell_type": "markdown",
      "source": [
        "Variables en Python y Operaciones Básicas:\n"
      ],
      "metadata": {
        "id": "CDTc8nN3oipZ"
      }
    },
    {
      "cell_type": "markdown",
      "source": [
        "Write a program that displays the result of the following arithmetic operation on the screen:  x(t)=(3+22.5)2"
      ],
      "metadata": {
        "id": "BGlumt91q5Lu"
      }
    },
    {
      "cell_type": "code",
      "source": [
        "print(\"El resultado de la operación es: \\n\")\n",
        "x = 2.5\n",
        "y = ( 3 + 2) / x #hace la operación indicada\n",
        "r = y**2\n",
        "print(r)"
      ],
      "metadata": {
        "colab": {
          "base_uri": "https://localhost:8080/"
        },
        "id": "fXPp2al0dR0j",
        "outputId": "a3056f88-d04e-4efa-db6b-670eb586e3a6"
      },
      "execution_count": null,
      "outputs": [
        {
          "output_type": "stream",
          "name": "stdout",
          "text": [
            "El resultado de la operación es: \n",
            "\n",
            "4.0\n"
          ]
        }
      ]
    },
    {
      "cell_type": "markdown",
      "source": [
        "Write a program that asks the user for the number of hours worked and the hourly rate. Then, it should display on the screen the corresponding payment."
      ],
      "metadata": {
        "id": "iIGenjqRrZ-D"
      }
    },
    {
      "cell_type": "code",
      "source": [
        "print (\"Por  favor digite el numero de horas trabajadas\")\n",
        "h = input()\n",
        "print (\"Por favor digite el valor de cada hora\")\n",
        "v = input()\n",
        "h = float5(h)\n",
        "v = int(v)\n",
        "x = h*v\n",
        "print (\"el valor es: \\n\")\n",
        "x"
      ],
      "metadata": {
        "colab": {
          "base_uri": "https://localhost:8080/"
        },
        "id": "mnPIQ3QDd9CC",
        "outputId": "5c16b512-1ba8-4603-c460-b3dfeca94bf5"
      },
      "execution_count": null,
      "outputs": [
        {
          "output_type": "stream",
          "name": "stdout",
          "text": [
            "Por  favor digite el numero de horas trabajadas\n",
            "4\n",
            "Por favor digite el valor de cada hora\n",
            "5000\n",
            "el valor es: \n",
            "\n"
          ]
        },
        {
          "output_type": "execute_result",
          "data": {
            "text/plain": [
              "20000.0"
            ]
          },
          "metadata": {},
          "execution_count": 9
        }
      ]
    },
    {
      "cell_type": "markdown",
      "source": [
        "Write a program that asks the user for their weight (in kg) and height (in meters), calculates the body mass index (BMI), stores it in a variable, and displays the message \"Your body mass index is imc\" on the screen, where imc is the calculated BMI rounded to two decimal places.\n"
      ],
      "metadata": {
        "id": "k77DENN_rdb9"
      }
    },
    {
      "cell_type": "code",
      "source": [
        "weight = float(input(\"Ingrese su peso en kg \"))\n",
        "height = float(input(\"Ingrese su altura en metros: \"))\n",
        "\n",
        "bmi = weight / (height ** 2)\n",
        "\n",
        "rounded_bmi = round(bmi, 2)\n",
        "\n",
        "print(f\"Tu indice de masa es: {rounded_bmi}\")"
      ],
      "metadata": {
        "colab": {
          "base_uri": "https://localhost:8080/"
        },
        "id": "eWwprZ83faOE",
        "outputId": "63b439f6-5493-4247-c39e-33b3ee7a2992"
      },
      "execution_count": null,
      "outputs": [
        {
          "output_type": "stream",
          "name": "stdout",
          "text": [
            "Ingrese su peso en kg 48\n",
            "Ingrese su altura en metros: 1.58\n",
            "Tu indice de masa es: 19.23\n"
          ]
        }
      ]
    },
    {
      "cell_type": "markdown",
      "source": [
        "Condicionales en Python:\n"
      ],
      "metadata": {
        "id": "ag5rQz37oMx4"
      }
    },
    {
      "cell_type": "markdown",
      "source": [
        "In order to pay a certain tax, you must be over 16 years old and have a monthly income equal to or greater than €1000. Write a program that asks the user for their age and monthly income, and displays whether the user has to pay the tax or not."
      ],
      "metadata": {
        "id": "AC8Vk9dXrmol"
      }
    },
    {
      "cell_type": "code",
      "source": [
        "age = int(input(\"Ingresa tu edad: \"))\n",
        "income = float(input(\"Ingresa tu salario en euros: \"))\n",
        "\n",
        "if age > 16 and income >= 1000:\n",
        "    print(\"Debes pagar los impuestos\")\n",
        "else:\n",
        "    print(\"NO tienes que pagar los impuestos\")"
      ],
      "metadata": {
        "colab": {
          "base_uri": "https://localhost:8080/"
        },
        "id": "CIXHcAuLhjUB",
        "outputId": "35d7070b-c29f-4cf7-a636-4952cd963d00"
      },
      "execution_count": null,
      "outputs": [
        {
          "output_type": "stream",
          "name": "stdout",
          "text": [
            "Ingresa tu edad: 17\n",
            "Ingresa tu salario en euros: 600\n",
            "NO tienes que pagar los impuestos\n"
          ]
        }
      ]
    },
    {
      "cell_type": "markdown",
      "source": [
        "The Bella Napoli pizzeria offers vegetarian and non-vegetarian pizzas to its customers. The ingredients for each type of pizza are as follows:\n",
        "Vegetarian ingredients: Bell peppers and tofu.\n",
        "\n",
        "Non-vegetarian ingredients: Pepperoni, Ham, and Salmon.\n",
        "\n",
        "Write a program that asks the user if they want a vegetarian pizza or not, and based on their response, displays a menu with the available ingredients for them to choose from. Only one additional ingredient can be chosen besides the mozzarella and tomato, which are included in all pizzas. Finally, the program should display whether the chosen pizza is vegetarian or not, along with all the ingredients it contains."
      ],
      "metadata": {
        "id": "v9Q1McTArrnu"
      }
    },
    {
      "cell_type": "code",
      "source": [
        "print(\"Bienvenido a Pizzería Napoli \\n\")\n",
        "pizza_type = input(\"Desea una pizza vegetariana? Responda si o no: \")\n",
        "\n",
        "if pizza_type.lower() == \"si\":\n",
        "    available_ingredients = [\"Bell peppers\", \"Tofu\"]\n",
        "    pizza_category = \"vegetariano\"\n",
        "    print(\"Desea adicionar algún ingrediente? Queso, Tomate, Ambos\")\n",
        "    r = str(input())\n",
        "\n",
        "    if r.lower()== \"queso\":\n",
        "       print(\"Los ingredientes de su pizza son: \\n Bell peppers, Tofu, Queso\")\n",
        "\n",
        "    if r.lower() == \"tomate\":\n",
        "      print(\"Los ingredientes de su pizza son: \\n Bell peppers, Tofu, Tomate\")\n",
        "\n",
        "    if r.lower() == \"ambos\":\n",
        "      print(\"Los ingredientes de su pizza son: \\n Bell peppers, Tofu, Tomate y Queso\")\n",
        "\n",
        "else:\n",
        "    available_ingredients = [\"Pepperoni\", \"Jamón\", \"Salmon\"]\n",
        "    pizza_category = \"no vegetariana\"\n",
        "\n",
        "    print(\"Desea adicionar algún ingrediente? Queso, Tomate, Ambos\")\n",
        "    r = str(input())\n",
        "    if r.lower()== \"queso\":\n",
        "       print(\"Los ingredientes de su pizza son: \\n Pepperoni, Jamon, Salmon, Queso\")\n",
        "\n",
        "    if r.lower() == \"tomate\":\n",
        "      print(\"Los ingredientes de su pizza son: \\n Bell Pepperoni, Jamon, Salmon, Tomate\")\n",
        "\n",
        "    if r.lower() == \"ambos\":\n",
        "      print(\"Los ingredientes de su pizza son: \\nPepperoni, Jamon, Salmon, Tomate y Queso\")\n",
        "\n",
        "\n",
        "\n",
        "\n"
      ],
      "metadata": {
        "colab": {
          "base_uri": "https://localhost:8080/"
        },
        "id": "AQAJ5I2ehnoO",
        "outputId": "5b17e785-2679-4e9f-de26-6154b4c948ca"
      },
      "execution_count": null,
      "outputs": [
        {
          "output_type": "stream",
          "name": "stdout",
          "text": [
            "Bienvenido a Pizzería Napoli \n",
            "\n",
            "Desea una pizza vegetariana o no? Responda si o no: si\n",
            "Desea adicionar algún ingrediente? Queso, Tomate, Ambos\n",
            "ambos\n",
            "Los ingredientes de su pizza son: \n",
            " Bell peppers, Tofu, Tomate y Queso\n"
          ]
        }
      ]
    },
    {
      "cell_type": "markdown",
      "source": [
        "Ciclos en Python:\n"
      ],
      "metadata": {
        "id": "rUfS9zqhoqCH"
      }
    },
    {
      "cell_type": "markdown",
      "source": [
        "Write a code that ask the user to enter an integer number every time, and the process will be repeated with more numbers until the user enters a zero.\n",
        "\n",
        "At the end (when the zero is entered), show the amount of numbers entered."
      ],
      "metadata": {
        "id": "UaFepONprza1"
      }
    },
    {
      "cell_type": "code",
      "source": [
        "count = 0\n",
        "num = 1\n",
        "\n",
        "while num != 0:\n",
        "    num = int(input(\"Ingresa un número entero. \\n Si quieres terminar el programa, ingresa 0 \"))\n",
        "\n",
        "    if num != 0:\n",
        "        count += 1\n",
        "\n",
        "print(f\"Total de numeros ingresados: {count}\")"
      ],
      "metadata": {
        "id": "ShJqumZduVdd",
        "colab": {
          "base_uri": "https://localhost:8080/"
        },
        "outputId": "814deafd-b577-4466-e334-856697f2ca51"
      },
      "execution_count": 2,
      "outputs": [
        {
          "output_type": "stream",
          "name": "stdout",
          "text": [
            "Ingresa un número entero. \n",
            " Si quieres terminar el programa, ingresa 0 1\n",
            "Ingresa un número entero. \n",
            " Si quieres terminar el programa, ingresa 0 2\n",
            "Ingresa un número entero. \n",
            " Si quieres terminar el programa, ingresa 0 3\n",
            "Ingresa un número entero. \n",
            " Si quieres terminar el programa, ingresa 0 4\n",
            "Ingresa un número entero. \n",
            " Si quieres terminar el programa, ingresa 0 5\n",
            "Ingresa un número entero. \n",
            " Si quieres terminar el programa, ingresa 0 6\n",
            "Ingresa un número entero. \n",
            " Si quieres terminar el programa, ingresa 0 0\n",
            "Total de numeros ingresados: 6\n"
          ]
        }
      ]
    },
    {
      "cell_type": "markdown",
      "source": [
        "Use the input() function to ask for the user to enter one integer number. Only if the number is even, it will be accumulated.\n",
        "\n",
        "The program must come to an end if the sum of the numbers surpasses 50 or if the user enters a maximum of 10 numbers."
      ],
      "metadata": {
        "id": "ppBQHu-CsEVT"
      }
    },
    {
      "cell_type": "code",
      "source": [
        "total_sum = 0\n",
        "numbers = 0\n",
        "\n",
        "while total_sum <= 50 and numbers < 10:\n",
        "    num = int(input(\"Ingresa un número entero: \"))\n",
        "\n",
        "    if num % 2 == 0:\n",
        "        total_sum += num\n",
        "\n",
        "    numbers += 1\n",
        "\n",
        "print(f\"Suma total de los números: {total_sum}\")"
      ],
      "metadata": {
        "colab": {
          "base_uri": "https://localhost:8080/"
        },
        "id": "VRVkALUOpgZ0",
        "outputId": "eb587431-760e-4ce0-f114-eb2ef6bb52a7"
      },
      "execution_count": 3,
      "outputs": [
        {
          "output_type": "stream",
          "name": "stdout",
          "text": [
            "Ingresa un número entero: 22\n",
            "Ingresa un número entero: 44\n",
            "Suma total de los números: 66\n"
          ]
        }
      ]
    }
  ]
}