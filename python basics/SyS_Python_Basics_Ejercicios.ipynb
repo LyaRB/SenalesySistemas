{
  "nbformat": 4,
  "nbformat_minor": 0,
  "metadata": {
    "colab": {
      "provenance": [],
      "authorship_tag": "ABX9TyMnxbmjgiOSDCsTjjVwXj3j",
      "include_colab_link": true
    },
    "kernelspec": {
      "name": "python3",
      "display_name": "Python 3"
    },
    "language_info": {
      "name": "python"
    }
  },
  "cells": [
    {
      "cell_type": "markdown",
      "metadata": {
        "id": "view-in-github",
        "colab_type": "text"
      },
      "source": [
        "<a href=\"https://colab.research.google.com/github/LyaRB/SenalesySistemas/blob/main/python%20basics/SyS_Python_Basics_Ejercicios.ipynb\" target=\"_parent\"><img src=\"https://colab.research.google.com/assets/colab-badge.svg\" alt=\"Open In Colab\"/></a>"
      ]
    },
    {
      "cell_type": "markdown",
      "source": [
        "Variables en Python y Operaciones Básicas:\n"
      ],
      "metadata": {
        "id": "CDTc8nN3oipZ"
      }
    },
    {
      "cell_type": "markdown",
      "source": [
        "Write a program that displays the result of the following arithmetic operation on the screen:  x(t)=(3+2.5)2"
      ],
      "metadata": {
        "id": "BGlumt91q5Lu"
      }
    },
    {
      "cell_type": "code",
      "source": [
        "print(\"El resultado de la operación es: \\n\")\n",
        "x = 2.5\n",
        "y = ( 3 + 2) / x #hace la operación indicada\n",
        "r = y**2\n",
        "print(r)"
      ],
      "metadata": {
        "colab": {
          "base_uri": "https://localhost:8080/"
        },
        "id": "fXPp2al0dR0j",
        "outputId": "c58b38ed-ad3f-4104-e6f8-4562e2c8e435"
      },
      "execution_count": null,
      "outputs": [
        {
          "output_type": "stream",
          "name": "stdout",
          "text": [
            "El resultado de la operación es: \n",
            "\n",
            "4.0\n"
          ]
        }
      ]
    },
    {
      "cell_type": "markdown",
      "source": [
        "Write a program that asks the user for the number of hours worked and the hourly rate. Then, it should display on the screen the corresponding payment."
      ],
      "metadata": {
        "id": "iIGenjqRrZ-D"
      }
    },
    {
      "cell_type": "code",
      "source": [
        "print (\"Por  favor digite el numero de horas trabajadas\")\n",
        "h = input()\n",
        "print (\"Por favor digite el valor de cada hora\")\n",
        "v = input()\n",
        "h = float(h)\n",
        "v = float(v)\n",
        "x = h*v\n",
        "print (\"E2.l valor es: \\n\")\n",
        "x"
      ],
      "metadata": {
        "colab": {
          "base_uri": "https://localhost:8080/",
          "height": 409
        },
        "id": "mnPIQ3QDd9CC",
        "outputId": "eb352110-3952-4124-80ce-4f4762c95167"
      },
      "execution_count": null,
      "outputs": [
        {
          "metadata": {
            "tags": null
          },
          "name": "stdout",
          "output_type": "stream",
          "text": [
            "Por  favor digite el numero de horas trabajadas\n"
          ]
        },
        {
          "output_type": "error",
          "ename": "KeyboardInterrupt",
          "evalue": "ignored",
          "traceback": [
            "\u001b[0;31m---------------------------------------------------------------------------\u001b[0m",
            "\u001b[0;31mKeyboardInterrupt\u001b[0m                         Traceback (most recent call last)",
            "\u001b[0;32m<ipython-input-8-9d1d89c939a3>\u001b[0m in \u001b[0;36m<cell line: 2>\u001b[0;34m()\u001b[0m\n\u001b[1;32m      1\u001b[0m \u001b[0mprint\u001b[0m \u001b[0;34m(\u001b[0m\u001b[0;34m\"Por  favor digite el numero de horas trabajadas\"\u001b[0m\u001b[0;34m)\u001b[0m\u001b[0;34m\u001b[0m\u001b[0;34m\u001b[0m\u001b[0m\n\u001b[0;32m----> 2\u001b[0;31m \u001b[0mh\u001b[0m \u001b[0;34m=\u001b[0m \u001b[0minput\u001b[0m\u001b[0;34m(\u001b[0m\u001b[0;34m)\u001b[0m\u001b[0;34m\u001b[0m\u001b[0;34m\u001b[0m\u001b[0m\n\u001b[0m\u001b[1;32m      3\u001b[0m \u001b[0mprint\u001b[0m \u001b[0;34m(\u001b[0m\u001b[0;34m\"Por favor digite el valor de cada hora\"\u001b[0m\u001b[0;34m)\u001b[0m\u001b[0;34m\u001b[0m\u001b[0;34m\u001b[0m\u001b[0m\n\u001b[1;32m      4\u001b[0m \u001b[0mv\u001b[0m \u001b[0;34m=\u001b[0m \u001b[0minput\u001b[0m\u001b[0;34m(\u001b[0m\u001b[0;34m)\u001b[0m\u001b[0;34m\u001b[0m\u001b[0;34m\u001b[0m\u001b[0m\n\u001b[1;32m      5\u001b[0m \u001b[0mh\u001b[0m \u001b[0;34m=\u001b[0m \u001b[0mfloat\u001b[0m\u001b[0;34m(\u001b[0m\u001b[0mh\u001b[0m\u001b[0;34m)\u001b[0m\u001b[0;34m\u001b[0m\u001b[0;34m\u001b[0m\u001b[0m\n",
            "\u001b[0;32m/usr/local/lib/python3.10/dist-packages/ipykernel/kernelbase.py\u001b[0m in \u001b[0;36mraw_input\u001b[0;34m(self, prompt)\u001b[0m\n\u001b[1;32m    849\u001b[0m                 \u001b[0;34m\"raw_input was called, but this frontend does not support input requests.\"\u001b[0m\u001b[0;34m\u001b[0m\u001b[0;34m\u001b[0m\u001b[0m\n\u001b[1;32m    850\u001b[0m             )\n\u001b[0;32m--> 851\u001b[0;31m         return self._input_request(str(prompt),\n\u001b[0m\u001b[1;32m    852\u001b[0m             \u001b[0mself\u001b[0m\u001b[0;34m.\u001b[0m\u001b[0m_parent_ident\u001b[0m\u001b[0;34m,\u001b[0m\u001b[0;34m\u001b[0m\u001b[0;34m\u001b[0m\u001b[0m\n\u001b[1;32m    853\u001b[0m             \u001b[0mself\u001b[0m\u001b[0;34m.\u001b[0m\u001b[0m_parent_header\u001b[0m\u001b[0;34m,\u001b[0m\u001b[0;34m\u001b[0m\u001b[0;34m\u001b[0m\u001b[0m\n",
            "\u001b[0;32m/usr/local/lib/python3.10/dist-packages/ipykernel/kernelbase.py\u001b[0m in \u001b[0;36m_input_request\u001b[0;34m(self, prompt, ident, parent, password)\u001b[0m\n\u001b[1;32m    893\u001b[0m             \u001b[0;32mexcept\u001b[0m \u001b[0mKeyboardInterrupt\u001b[0m\u001b[0;34m:\u001b[0m\u001b[0;34m\u001b[0m\u001b[0;34m\u001b[0m\u001b[0m\n\u001b[1;32m    894\u001b[0m                 \u001b[0;31m# re-raise KeyboardInterrupt, to truncate traceback\u001b[0m\u001b[0;34m\u001b[0m\u001b[0;34m\u001b[0m\u001b[0m\n\u001b[0;32m--> 895\u001b[0;31m                 \u001b[0;32mraise\u001b[0m \u001b[0mKeyboardInterrupt\u001b[0m\u001b[0;34m(\u001b[0m\u001b[0;34m\"Interrupted by user\"\u001b[0m\u001b[0;34m)\u001b[0m \u001b[0;32mfrom\u001b[0m \u001b[0;32mNone\u001b[0m\u001b[0;34m\u001b[0m\u001b[0;34m\u001b[0m\u001b[0m\n\u001b[0m\u001b[1;32m    896\u001b[0m             \u001b[0;32mexcept\u001b[0m \u001b[0mException\u001b[0m \u001b[0;32mas\u001b[0m \u001b[0me\u001b[0m\u001b[0;34m:\u001b[0m\u001b[0;34m\u001b[0m\u001b[0;34m\u001b[0m\u001b[0m\n\u001b[1;32m    897\u001b[0m                 \u001b[0mself\u001b[0m\u001b[0;34m.\u001b[0m\u001b[0mlog\u001b[0m\u001b[0;34m.\u001b[0m\u001b[0mwarning\u001b[0m\u001b[0;34m(\u001b[0m\u001b[0;34m\"Invalid Message:\"\u001b[0m\u001b[0;34m,\u001b[0m \u001b[0mexc_info\u001b[0m\u001b[0;34m=\u001b[0m\u001b[0;32mTrue\u001b[0m\u001b[0;34m)\u001b[0m\u001b[0;34m\u001b[0m\u001b[0;34m\u001b[0m\u001b[0m\n",
            "\u001b[0;31mKeyboardInterrupt\u001b[0m: Interrupted by user"
          ]
        }
      ]
    },
    {
      "cell_type": "markdown",
      "source": [
        "Write a program that asks the user for their weight (in kg) and height (in meters), calculates the body mass index (BMI), stores it in a variable, and displays the message \"Your body mass index is imc\" on the screen, where imc is the calculated BMI rounded to two decimal places.\n"
      ],
      "metadata": {
        "id": "k77DENN_rdb9"
      }
    },
    {
      "cell_type": "code",
      "source": [
        "weight = float(input(\"Ingrese su peso en kg \"))\n",
        "height = float(input(\"Ingrese su altura en metros: \"))\n",
        "\n",
        "bmi = weight / (height ** 2)\n",
        "\n",
        "rounded_bmi = round(bmi, 2)\n",
        "\n",
        "print(f\"Tu indice de masa es: {rounded_bmi}\")"
      ],
      "metadata": {
        "id": "eWwprZ83faOE"
      },
      "execution_count": null,
      "outputs": []
    },
    {
      "cell_type": "markdown",
      "source": [
        "Condicionales en Python:\n"
      ],
      "metadata": {
        "id": "ag5rQz37oMx4"
      }
    },
    {
      "cell_type": "markdown",
      "source": [
        "In order to pay a certain tax, you must be over 16 years old and have a monthly income equal to or greater than €1000. Write a program that asks the user for their age and monthly income, and displays whether the user has to pay the tax or not."
      ],
      "metadata": {
        "id": "AC8Vk9dXrmol"
      }
    },
    {
      "cell_type": "code",
      "source": [
        "age = int(input(\"Ingresa tu edad: \"))\n",
        "income = float(input(\"Ingresa tu salario en euros: \"))\n",
        "\n",
        "if age > 16 and income >= 1000:\n",
        "    print(\"Debes pagar los impuestos\")\n",
        "else:\n",
        "    print(\"NO tienes que pagar los impuestos\")"
      ],
      "metadata": {
        "id": "CIXHcAuLhjUB"
      },
      "execution_count": null,
      "outputs": []
    },
    {
      "cell_type": "markdown",
      "source": [
        "The Bella Napoli pizzeria offers vegetarian and non-vegetarian pizzas to its customers. The ingredients for each type of pizza are as follows:\n",
        "Vegetarian ingredients: Bell peppers and tofu.\n",
        "\n",
        "Non-vegetarian ingredients: Pepperoni, Ham, and Salmon.\n",
        "\n",
        "Write a program that asks the user if they want a vegetarian pizza or not, and based on their response, displays a menu with the available ingredients for them to choose from. Only one additional ingredient can be chosen besides the mozzarella and tomato, which are included in all pizzas. Finally, the program should display whether the chosen pizza is vegetarian or not, along with all the ingredients it contains."
      ],
      "metadata": {
        "id": "v9Q1McTArrnu"
      }
    },
    {
      "cell_type": "code",
      "source": [
        "print(\"Bienvenido a Pizzería Napoli \\n\")\n",
        "pizza_type = input(\"Desea una pizza vegetariana? Responda si o no: \")\n",
        "\n",
        "if pizza_type.lower() == \"si\":\n",
        "    available_ingredients = [\"Bell peppers\", \"Tofu\"]\n",
        "    pizza_category = \"vegetariano\"\n",
        "    print(\"Desea adicionar algún ingrediente? Queso, Tomate, Ambos\")\n",
        "    r = str(input())\n",
        "\n",
        "    if r.lower()== \"queso\":\n",
        "       print(\"Los ingredientes de su pizza son: \\n Bell peppers, Tofu, Queso\")\n",
        "\n",
        "    if r.lower() == \"tomate\":\n",
        "      print(\"Los ingredientes de su pizza son: \\n Bell peppers, Tofu, Tomate\")\n",
        "\n",
        "    if r.lower() == \"ambos\":\n",
        "      print(\"Los ingredientes de su pizza son: \\n Bell peppers, Tofu, Tomate y Queso\")\n",
        "\n",
        "else:\n",
        "    available_ingredients = [\"Pepperoni\", \"Jamón\", \"Salmon\"]\n",
        "    pizza_category = \"no vegetariana\"\n",
        "\n",
        "    print(\"Desea adicionar algún ingrediente? Queso, Tomate, Ambos\")\n",
        "    r = str(input())\n",
        "    if r.lower()== \"queso\":\n",
        "       print(\"Los ingredientes de su pizza son: \\n Pepperoni, Jamon, Salmon, Queso\")\n",
        "\n",
        "    if r.lower() == \"tomate\":\n",
        "      print(\"Los ingredientes de su pizza son: \\n Bell Pepperoni, Jamon, Salmon, Tomate\")\n",
        "\n",
        "    if r.lower() == \"ambos\":\n",
        "      print(\"Los ingredientes de su pizza son: \\nPepperoni, Jamon, Salmon, Tomate y Queso\")\n",
        "\n",
        "\n",
        "\n",
        "\n"
      ],
      "metadata": {
        "id": "AQAJ5I2ehnoO"
      },
      "execution_count": null,
      "outputs": []
    },
    {
      "cell_type": "markdown",
      "source": [
        "Ciclos en Python:\n"
      ],
      "metadata": {
        "id": "rUfS9zqhoqCH"
      }
    },
    {
      "cell_type": "markdown",
      "source": [
        "Write a code that ask the user to enter an integer number every time, and the process will be repeated with more numbers until the user enters a zero.\n",
        "\n",
        "At the end (when the zero is entered), show the amount of numbers entered."
      ],
      "metadata": {
        "id": "UaFepONprza1"
      }
    },
    {
      "cell_type": "code",
      "source": [
        "count = 0\n",
        "num = 1\n",
        "while num != 0:\n",
        "    num = int(input(\"Ingresa un número entero. \\n Si quieres terminar el programa, ingresa 0 \"))\n",
        "\n",
        "    if num != 0:\n",
        "        count += 1\n",
        "\n",
        "print(f\"Total de numeros ingresados: {count}\")"
      ],
      "metadata": {
        "id": "ShJqumZduVdd"
      },
      "execution_count": null,
      "outputs": []
    },
    {
      "cell_type": "markdown",
      "source": [
        "Use the input() function to ask for the user to enter one integer number. Only if the number is even, it will be accumulated.\n",
        "\n",
        "The program must come to an end if the sum of the numbers surpasses 50 or if the user enters a maximum of 10 numbers."
      ],
      "metadata": {
        "id": "ppBQHu-CsEVT"
      }
    },
    {
      "cell_type": "code",
      "source": [
        "total_sum = 0\n",
        "numbers = 0\n",
        "\n",
        "while total_sum <= 50 and numbers < 10:\n",
        "    num = int(input(\"Ingresa un número entero: \"))\n",
        "\n",
        "    if num % 2 == 0:\n",
        "        total_sum += num\n",
        "\n",
        "    numbers += 1\n",
        "\n",
        "print(f\"Suma total de los números: {total_sum}\")"
      ],
      "metadata": {
        "id": "VRVkALUOpgZ0"
      },
      "execution_count": null,
      "outputs": []
    },
    {
      "cell_type": "markdown",
      "source": [
        "Funciones en Python"
      ],
      "metadata": {
        "id": "Y9HTme9NiCuP"
      }
    },
    {
      "cell_type": "markdown",
      "source": [
        "The area of a triangle can be calculated when the length of its sides is known. Taking into account that s1, s2 and s3 are the lengths of the sides of the triangle, the subperimeter s = (s1+s2+s3)/2 can be calculated, and, with this value, the area of the triangle can be calculated from the follows: area = √( s * (s-s1) * (s-s2) * (s-s3) ).\n",
        "\n",
        "Create a function that takes the length of the sides of the triangle and returns the area of the triangle, rounded to one decimal place.\n",
        "\n",
        "The math module can help you calculate the square root."
      ],
      "metadata": {
        "id": "5uqwHzyqieJ5"
      }
    },
    {
      "cell_type": "code",
      "source": [
        "import math\n",
        "def area(s1,s2,s3):\n",
        "  s = (s1 + s2 + s3)/2\n",
        "  a = math.sqrt(s*(s - s1)*(s - s2)*(s - s3))\n",
        "  return round(a,1)\n"
      ],
      "metadata": {
        "id": "Hjb3J34CidRU"
      },
      "execution_count": null,
      "outputs": []
    },
    {
      "cell_type": "code",
      "source": [
        "s1 = int(input(\"Por favor ingresa el lado 1: \"))\n",
        "s2 = int(input(\"Por favor ingresa el lado 2: \"))\n",
        "s3 = int(input(\"Por favor ingresar el lado 3: \"))\n",
        "\n",
        "print(\"El área del triangulo es: \")\n",
        "a = area(s1,s2,s3)\n",
        "a\n"
      ],
      "metadata": {
        "id": "vgho_vQUjvV6",
        "colab": {
          "base_uri": "https://localhost:8080/"
        },
        "outputId": "d90179d4-b335-4a30-800a-4bf488185a0e"
      },
      "execution_count": null,
      "outputs": [
        {
          "output_type": "stream",
          "name": "stdout",
          "text": [
            "Por favor ingresa el lado 1: 5\n",
            "Por favor ingresa el lado 2: 6\n",
            "Por favor ingresar el lado 3: 9\n",
            "El área del triangulo es: \n"
          ]
        },
        {
          "output_type": "execute_result",
          "data": {
            "text/plain": [
              "14.1"
            ]
          },
          "metadata": {},
          "execution_count": 10
        }
      ]
    },
    {
      "cell_type": "markdown",
      "source": [
        "Create a function that can calculate a person's body mass index (BMI).\n",
        "\n",
        "The formula to calculate BMI is as follows:\n",
        "\n",
        "BMI = weight/(height^2)\n",
        "\n",
        "In this formula the weight is in kilograms and the height in meters. Note that the weight and height received by your function will be in pounds and inches respectively, since your function will be used in the United States."
      ],
      "metadata": {
        "id": "AZgbHTMaEs4Q"
      }
    },
    {
      "cell_type": "code",
      "source": [
        "def convertir(w):\n",
        "  w1 = w*0.45\n",
        "  return w1\n",
        "\n",
        "def convertir2(h):\n",
        "    h1 = h*0.025\n",
        "    return h1\n",
        "\n",
        "def BMI(w, h):\n",
        "  bmi = w/(h**2)\n",
        "  return bmi"
      ],
      "metadata": {
        "id": "t6Lj9N9cGH0J"
      },
      "execution_count": null,
      "outputs": []
    },
    {
      "cell_type": "code",
      "source": [
        "w = float(input(\"Ingrese su peso \"))\n",
        "h = float(input(\"Ingrese su estatura\"))\n",
        "\n",
        "w1 = convertir(w)\n",
        "h1 = convertir2(h)\n",
        "\n",
        "bmi = BMI(w1,h1)\n",
        "print(\"Su indice de masa corporal es \")\n",
        "bmi"
      ],
      "metadata": {
        "id": "FpzfR5R6Geq0",
        "colab": {
          "base_uri": "https://localhost:8080/"
        },
        "outputId": "4880124f-4296-4862-8fa9-2a39fe680888"
      },
      "execution_count": null,
      "outputs": [
        {
          "output_type": "stream",
          "name": "stdout",
          "text": [
            "Ingrese su peso 104.4\n",
            "Ingrese su estatura63.2\n",
            "Su indice de masa corporal es \n"
          ]
        },
        {
          "output_type": "execute_result",
          "data": {
            "text/plain": [
              "18.81909950328473"
            ]
          },
          "metadata": {},
          "execution_count": 13
        }
      ]
    },
    {
      "cell_type": "markdown",
      "source": [
        "Listas en Python"
      ],
      "metadata": {
        "id": "K_0a7JkiLBKy"
      }
    },
    {
      "cell_type": "markdown",
      "source": [
        "Write a function that takes a list of numbers as input and returns the sum of all the odd numbers in the list. For example, if the input is [1, 2, 3, 4, 5, 6], the function should return 9 (which is the sum of 1, 3, and 5)."
      ],
      "metadata": {
        "id": "w6muyCzuLMnV"
      }
    },
    {
      "cell_type": "code",
      "source": [
        "def lista(n):\n",
        "  suma = 0\n",
        "  for i in n:\n",
        "    if i%2 != 0:\n",
        "      suma += i\n",
        "  return suma\n",
        "\n",
        "numbers = [1,2,3,4,5,6,7,8,9]\n",
        "suma = lista(numbers)\n",
        "print(\"la suma de los números impares es \")\n",
        "suma"
      ],
      "metadata": {
        "id": "gUzdEC2OL8Yo",
        "colab": {
          "base_uri": "https://localhost:8080/"
        },
        "outputId": "76c9b064-b251-4215-9ff2-231ffdfff3af"
      },
      "execution_count": null,
      "outputs": [
        {
          "output_type": "stream",
          "name": "stdout",
          "text": [
            "la suma de los números impares es \n"
          ]
        },
        {
          "output_type": "execute_result",
          "data": {
            "text/plain": [
              "25"
            ]
          },
          "metadata": {},
          "execution_count": 14
        }
      ]
    },
    {
      "cell_type": "markdown",
      "source": [
        "Write a function that takes a list of words as input and returns a dictionary that counts the number of times each word appears in the list. For example, if the input is ['apple', 'banana', 'apple', 'cherry', 'cherry', 'cherry'], the function should return {'apple': 2, 'banana': 1, 'cherry': 3}."
      ],
      "metadata": {
        "id": "fZgwQ1LeQAJJ"
      }
    },
    {
      "cell_type": "code",
      "source": [
        "def count(lista):\n",
        "    word_count = {}\n",
        "\n",
        "    for word in lista:\n",
        "        if word in word_count:\n",
        "            word_count[word] += 1\n",
        "        else:\n",
        "            word_count[word] = 1\n",
        "\n",
        "    return word_count\n",
        "\n",
        "word_list = ['manzana', 'manzana', 'guayaba', 'platano', 'naranja', 'naranja']\n",
        "word_counts = count(word_list)\n",
        "print(word_counts)\n"
      ],
      "metadata": {
        "id": "6kE-u5vaQC33",
        "colab": {
          "base_uri": "https://localhost:8080/"
        },
        "outputId": "ff1409b6-bbf2-4ec9-ecfb-2964da94fe55"
      },
      "execution_count": null,
      "outputs": [
        {
          "output_type": "stream",
          "name": "stdout",
          "text": [
            "{'manzana': 2, 'guayaba': 1, 'platano': 1, 'naranja': 2}\n"
          ]
        }
      ]
    },
    {
      "cell_type": "code",
      "source": [
        "def count(lista):\n",
        "    word_count = {}\n",
        "\n",
        "    for word in lista:\n",
        "        if word in word_count:\n",
        "            word_count[word] += 1\n",
        "        else:\n",
        "            word_count[word] = 1\n",
        "\n",
        "    return word_count\n",
        "\n",
        "word_list = []\n",
        "while True:\n",
        "    palabra = input(\"Ingrese una palabra (o presione Enter para finalizar): \")\n",
        "    if palabra == \"\":\n",
        "        break\n",
        "    word_list.append(palabra)\n",
        "\n",
        "word_counts = count(word_list)\n",
        "print(word_counts)\n"
      ],
      "metadata": {
        "colab": {
          "base_uri": "https://localhost:8080/"
        },
        "id": "2rT_FbSGJz1x",
        "outputId": "cfbb6f27-409e-4cb2-ad63-4d15d97ef674"
      },
      "execution_count": null,
      "outputs": [
        {
          "output_type": "stream",
          "name": "stdout",
          "text": [
            "Ingrese una palabra (o presione Enter para finalizar): eludir\n",
            "Ingrese una palabra (o presione Enter para finalizar): parangatimicuaro\n",
            "Ingrese una palabra (o presione Enter para finalizar): \n",
            "{'eludir': 1, 'parangatimicuaro': 1}\n"
          ]
        }
      ]
    },
    {
      "cell_type": "markdown",
      "source": [
        "Clases en Python\n"
      ],
      "metadata": {
        "id": "yPDGCNGhRdsy"
      }
    },
    {
      "cell_type": "markdown",
      "source": [
        "Crea una clase \"Persona\" que tenga atributos como nombre, edad, género y métodos para presentarse y saludar a otras personas.\n",
        "\n"
      ],
      "metadata": {
        "id": "zYSBa477TMY0"
      }
    },
    {
      "cell_type": "code",
      "source": [
        "class Persona:\n",
        "    def __init__(self, nombre, edad, genero):\n",
        "        self.nombre = nombre\n",
        "        self.edad = edad\n",
        "        self.genero = genero\n",
        "\n",
        "    def presentarse(self):\n",
        "        return f\"¡Hola, soy {self.nombre}! Tengo {self.edad} años y soy {self.genero}.\"\n",
        "\n",
        "    def saludar(self, otra_persona):\n",
        "        return f\"Hola, {otra_persona.nombre}. Soy {self.nombre} y quiero saludarte.\"\n",
        "\n",
        "persona1 = Persona(\"Juan\", 30, \"masculino\")\n",
        "persona2 = Persona(\"Ana\", 25, \"femenino\")\n",
        "\n",
        "print(persona1.presentarse())\n",
        "print(persona2.presentarse())\n",
        "\n",
        "saludo = persona1.saludar(persona2)\n",
        "print(saludo)\n"
      ],
      "metadata": {
        "id": "YiaR4KpUTRDr"
      },
      "execution_count": null,
      "outputs": []
    },
    {
      "cell_type": "markdown",
      "source": [
        "Crea una clase \"Coche\" que tenga atributos como marca, modelo, año, kilometraje y métodos para arrancar, acelerar y frena"
      ],
      "metadata": {
        "id": "PFnSOnRIVAFs"
      }
    },
    {
      "cell_type": "code",
      "source": [
        "class Coche:\n",
        "    def __init__(self, marca, modelo, año, kilometraje):\n",
        "        self.marca = marca\n",
        "        self.modelo = modelo\n",
        "        self.año = año\n",
        "        self.kilometraje = kilometraje\n",
        "        self.encendido = 1\n",
        "        self.velocidad = 0\n",
        "\n",
        "    def arrancar(self):\n",
        "        if self.encendido == 1:\n",
        "            print(self.marca, self.modelo, \"está en marcha\")\n",
        "        else:\n",
        "            print(self.marca, self.modelo, \"debe ser encendido\")\n",
        "\n",
        "    def acelerar(self, incremento):\n",
        "        if self.encendido == 1:\n",
        "            self.velocidad += incremento\n",
        "            print(f\"Acelerando. Velocidad actual: {self.velocidad} km/h\")\n",
        "        else:\n",
        "            print(f\"{self.marca} {self.modelo} el coche está apagado.\")\n",
        "\n",
        "    def frenar(self, decremento):\n",
        "        if self.encendido == 1:\n",
        "            if self.velocidad >= decremento:\n",
        "                self.velocidad -= decremento\n",
        "                print(f\"Frenando. Velocidad actual: {self.velocidad} km/h\")\n",
        "            else:\n",
        "                self.velocidad = 0\n",
        "                print(f\"El coche se detuvo por completo.\")\n",
        "        else:\n",
        "            print(f\"{self.marca} {self.modelo} no puede frenar, el coche está apagado.\")\n",
        "\n",
        "mi_coche = Coche(\"Toyota\", \"Corolla\", 2020, 5000)\n",
        "\n",
        "mi_coche.arrancar()\n",
        "mi_coche.acelerar(30)\n",
        "mi_coche.frenar(10)\n"
      ],
      "metadata": {
        "id": "j-RRRcsDVCUN"
      },
      "execution_count": null,
      "outputs": []
    },
    {
      "cell_type": "markdown",
      "source": [
        "Crea una clase \"Rectángulo\" que tenga atributos como longitud y ancho y métodos para calcular el área y el perímetro."
      ],
      "metadata": {
        "id": "rc043o9kVGcg"
      }
    },
    {
      "cell_type": "code",
      "source": [
        "class Rectangulo:\n",
        "    def __init__(self, longitud, ancho):\n",
        "        self.longitud = longitud\n",
        "        self.ancho = ancho\n",
        "\n",
        "    def calcular_area(self):\n",
        "        area = self.longitud * self.ancho\n",
        "        return area\n",
        "\n",
        "    def calcular_perimetro(self):\n",
        "        perimetro = 2 * (self.longitud + self.ancho)\n",
        "        return perimetro\n",
        "\n",
        "# Ejemplo de uso:\n",
        "mi_rectangulo = Rectangulo(5, 3)\n",
        "\n",
        "area = mi_rectangulo.calcular_area()\n",
        "perimetro = mi_rectangulo.calcular_perimetro()\n",
        "\n",
        "print(f\"Área del rectángulo: {area}\")\n",
        "print(f\"Perímetro del rectángulo: {perimetro}\")\n"
      ],
      "metadata": {
        "id": "vzgL_f56VKr_"
      },
      "execution_count": null,
      "outputs": []
    },
    {
      "cell_type": "markdown",
      "source": [
        "Crea una clase \"Banco\" que tenga atributos como nombre, dirección y métodos para abrir una cuenta, depositar dinero, retirar dinero y revisar el saldo."
      ],
      "metadata": {
        "id": "3CVopqMMVQcE"
      }
    },
    {
      "cell_type": "code",
      "source": [
        "class banco:\n",
        "\n",
        "  def __init__(self, nombre, direccion):\n",
        "     self.nombre = nombre\n",
        "     self.direccion = direccion\n",
        "     self.saldo = 0\n",
        "\n",
        "  def cuenta(self, respuesta):\n",
        "    if respuesta == 1:\n",
        "      print(\"Cuenta creada\")\n",
        "    else:\n",
        "      print(\"Gracias por su visita\")\n",
        "\n",
        "  def depositar(self,ingreso ):\n",
        "    if ingreso < 0:\n",
        "      print(\"Número inválido\")\n",
        "    else:\n",
        "      self.saldo += ingreso\n",
        "      print(\"Su saldo actual es de \" , self.saldo, \"pesos\")\n",
        "\n",
        "  def retirar(self, retiro):\n",
        "    if retiro > self.saldo:\n",
        "      print(\"No tiene saldo disponible\")\n",
        "    else:\n",
        "      self.saldo -= retiro\n",
        "      print(\"Su saldo actual es \", self.saldo, \"y su retiro fue de \",retiro)\n",
        "\n",
        "  def saldo_disponible(self):\n",
        "    print(\"Su saldo es \", self.saldo)\n",
        "\n",
        "#ejemplo\n",
        "Nombre = str(input(\"Escriba el nombre del banco\"))\n",
        "Direccion = str(input(\"Escriba la direccion\"))\n",
        "\n",
        "mi_banco= banco(Nombre,Direccion)\n",
        "print(\"Desea crear una cuenta? Escribs 1 si su respuesta es si y escriba 0 si su respuesta es no\")\n",
        "r = int(input())\n",
        "\n",
        "mi_cuenta= mi_banco.cuenta(r)\n",
        "mi_banco.depositar(100)\n",
        "mi_banco.retirar(50)\n",
        "mi_banco.saldo_disponible()\n",
        "\n",
        "\n",
        "\n"
      ],
      "metadata": {
        "colab": {
          "base_uri": "https://localhost:8080/"
        },
        "id": "FoyPKEoo-HX2",
        "outputId": "d5c3052e-cdac-40cb-a3db-6fc8b768193f"
      },
      "execution_count": null,
      "outputs": [
        {
          "output_type": "stream",
          "name": "stdout",
          "text": [
            "Escriba el nombre del bancoBANCO\n",
            "Escriba la direccion123456\n",
            "Desea crear una cuenta? Escribs 1 si su respuesta es si y escriba 0 si su respuesta es no\n",
            "1\n",
            "Cuenta creada\n",
            "Su saldo actual es de  100 pesos\n",
            "Su saldo actual es  50 y su retiro fue de  50\n",
            "Su saldo es  50\n"
          ]
        }
      ]
    },
    {
      "cell_type": "markdown",
      "source": [
        "Crea una clase \"Estudiante\" que tenga atributos como nombre, edad, promedio y métodos para estudiar, hacer tareas y presentar exámenes."
      ],
      "metadata": {
        "id": "PwAK1f4K7ml_"
      }
    },
    {
      "cell_type": "code",
      "source": [
        "class Estudiante:\n",
        "\n",
        "    def __init__(self, nombre, edad):\n",
        "        self.nombre = nombre\n",
        "        self.edad = edad\n",
        "\n",
        "    def tiempo_estudio(self, tiempo):\n",
        "        if tiempo <= 0:\n",
        "            print(\"Valor inválido\")\n",
        "        else:\n",
        "            print(\"Las notificaciones se bloquearán por\", tiempo, \"minutos\")\n",
        "\n",
        "    def pendientes(self, completado):\n",
        "        while completado != 1:\n",
        "            print(\"Tarea incompleta\")\n",
        "            completado = int(input(\"¿Terminaste tus tareas? Ingresa 1 si es así, 0 de lo contrario: \"))\n",
        "        print(\"Tarea completada\")\n",
        "\n",
        "    def fecha(self, dia, mes):\n",
        "        print(\"El examen propuesto está programado para la fecha\", dia, mes)\n",
        "\n",
        "    def examen(self, nota):\n",
        "        suma = 0\n",
        "        contador = 0\n",
        "        while nota >= 0 and nota <= 5:\n",
        "            suma += nota\n",
        "            contador += 1\n",
        "            nota = float(input(\"Ingresa la calificación de tus parciales (ingresa un valor negativo para salir): \"))\n",
        "\n",
        "        if contador > 0:\n",
        "            promedio = suma / contador\n",
        "            print(\"Su promedio es:\", promedio)\n",
        "\n",
        "name = input(\"Por favor, ingrese su nombre: \")\n",
        "age = int(input(\"Ingrese su edad: \"))\n",
        "\n",
        "student = Estudiante(name, age)\n",
        "\n",
        "t = int(input(\"Ingrese el tiempo de estudio: \"))\n",
        "student.tiempo_estudio(t)\n",
        "\n",
        "tareas = int(input(\"¿Terminaste tus tareas? Ingresa 1 si es así, 0 de lo contrario: \"))\n",
        "student.pendientes(tareas)\n",
        "\n",
        "dia_parcial = int(input(\"Ingresa el día de tu parcial: \"))\n",
        "mes_parcial = input(\"Ingresa el mes de tu parcial: \")\n",
        "student.fecha(dia_parcial, mes_parcial)\n",
        "\n",
        "calificacion = float(input(\"Ingresa la calificación de tus parciales (ingresa un valor negativo para salir): \"))\n",
        "student.examen(calificacion)\n"
      ],
      "metadata": {
        "id": "5pjvI372ei-7"
      },
      "execution_count": null,
      "outputs": []
    },
    {
      "cell_type": "markdown",
      "source": [
        "Herencias en Python"
      ],
      "metadata": {
        "id": "FF1N5SWFfVyR"
      }
    },
    {
      "cell_type": "markdown",
      "source": [
        "Crea un sistema de manejo de figuras geométricas utilizando clases y herencia. Debes tener una clase base llamada \"FiguraGeometrica\" con un método abstracto llamado \"calcular_area()\". Luego, crea clases derivadas para diferentes tipos de figuras geométricas, como \"Círculo\", \"Rectángulo\" y \"Triángulo\". Cada clase derivada debe implementar el método \"calcular_area()\" de acuerdo con la fórmula correspondiente para el cálculo del área de esa figura"
      ],
      "metadata": {
        "id": "j0l7yIuifc9N"
      }
    },
    {
      "cell_type": "code",
      "source": [
        "import math\n",
        "from abc import ABC, abstractmethod\n",
        "\n",
        "class FiguraGeometrica(ABC):\n",
        "    @abstractmethod\n",
        "    def calcular_area(self):\n",
        "        pass\n",
        "\n",
        "class Circulo(FiguraGeometrica):\n",
        "    def __init__(self, radio):\n",
        "        self.radio = radio\n",
        "\n",
        "    def calcular_area(self):\n",
        "        return math.pi * self.radio**2\n",
        "\n",
        "class Rectangulo(FiguraGeometrica):\n",
        "    def __init__(self, base, altura):\n",
        "        self.base = base\n",
        "        self.altura = altura\n",
        "\n",
        "    def calcular_area(self):\n",
        "        return self.base * self.altura\n",
        "\n",
        "class Triangulo(FiguraGeometrica):\n",
        "    def __init__(self, base, altura):\n",
        "        self.base = base\n",
        "        self.altura = altura\n",
        "\n",
        "    def calcular_area(self):\n",
        "        return (self.base * self.altura) / 2\n",
        "\n",
        "circulo = Circulo(5)\n",
        "rectangulo = Rectangulo(4, 6)\n",
        "triangulo = Triangulo(3, 8)\n",
        "\n",
        "print(\"Área del círculo: \", circulo.calcular_area())\n",
        "print(\"Área del rectángulo: \", rectangulo.calcular_area())\n",
        "print(\"Área del triángulo: \" , triangulo.calcular_area())\n",
        "\n"
      ],
      "metadata": {
        "id": "SCpT223WfsdF"
      },
      "execution_count": null,
      "outputs": []
    },
    {
      "cell_type": "markdown",
      "source": [
        "Crea un sistema de reserva de vuelos utilizando clases y herencia. Debes tener una clase base llamada \"Vuelo\" con los siguientes atributos: número de vuelo, origen, destino, y capacidad máxima de pasajeros. Luego, crea una clase derivada llamada \"VueloEconomico\" que herede de la clase base y agregue un atributo adicional llamado \"tarifa\". Además, agrega métodos en ambas clases para mostrar la información del vuelo y realizar una reserva de asientos.\n",
        "\n",
        "La clase base \"Vuelo\" debe tener un método para verificar si hay asientos disponibles y otro para realizar la reserva de un asiento. La clase derivada \"VueloEconomico\" puede tener métodos adicionales para calcular el precio total de la reserva de acuerdo con la tarifa y la cantidad de asientos reservados."
      ],
      "metadata": {
        "id": "PEbs4xC5jsja"
      }
    },
    {
      "cell_type": "code",
      "source": [
        "class Vuelo:\n",
        "    def __init__(self, numero_vuelo, origen, destino, capacidad_maxima):\n",
        "        self.numero_vuelo = numero_vuelo\n",
        "        self.origen = origen\n",
        "        self.destino = destino\n",
        "        self.capacidad_maxima = capacidad_maxima\n",
        "        self.asientos_disponibles = capacidad_maxima\n",
        "        self.reservas = []\n",
        "\n",
        "    def verificar_disponibilidad(self):\n",
        "        return self.asientos_disponibles > 0\n",
        "\n",
        "    def realizar_reserva(self, nombre_pasajero):\n",
        "        if self.verificar_disponibilidad():\n",
        "            self.reservas.append(nombre_pasajero)\n",
        "            self.asientos_disponibles -= 1\n",
        "            print(f\"Reserva realizada para {nombre_pasajero} en el vuelo {self.numero_vuelo}\")\n",
        "        else:\n",
        "            print(\"Lo siento, no hay asientos disponibles en este vuelo.\")\n",
        "\n",
        "    def mostrar_informacion_vuelo(self):\n",
        "        print(f\"Vuelo {self.numero_vuelo} de {self.origen} a {self.destino}\")\n",
        "        print(f\"Capacidad máxima de pasajeros: {self.capacidad_maxima}\")\n",
        "        print(f\"Asientos disponibles: {self.asientos_disponibles}\")\n",
        "        print(f\"Pasajeros reservados: {', '.join(self.reservas)}\")\n",
        "\n",
        "class VueloEconomico(Vuelo):\n",
        "    def __init__(self, numero_vuelo, origen, destino, capacidad_maxima, tarifa):\n",
        "        super().__init__(numero_vuelo, origen, destino, capacidad_maxima)\n",
        "        self.tarifa = tarifa\n",
        "\n",
        "    def calcular_precio_reserva(self, num_asientos):\n",
        "        return self.tarifa * num_asientos\n",
        "\n",
        "vuelo1 = VueloEconomico(\"V123\", \"Nueva York\", \"Los Ángeles\", 100, 200)\n",
        "vuelo1.mostrar_informacion_vuelo()\n",
        "\n",
        "vuelo1.realizar_reserva(\"Pasajero 1\")\n",
        "vuelo1.realizar_reserva(\"Pasajero 2\")\n",
        "\n",
        "vuelo1.mostrar_informacion_vuelo()\n",
        "\n",
        "precio_total = vuelo1.calcular_precio_reserva(2)\n",
        "print(f\"Precio total de la reserva: ${precio_total}\")\n"
      ],
      "metadata": {
        "colab": {
          "base_uri": "https://localhost:8080/"
        },
        "id": "d4wf8-pqkAfT",
        "outputId": "1aa767df-8e4a-4824-9e92-632b71e9f6d4"
      },
      "execution_count": null,
      "outputs": [
        {
          "output_type": "stream",
          "name": "stdout",
          "text": [
            "Vuelo V123 de Nueva York a Los Ángeles\n",
            "Capacidad máxima de pasajeros: 100\n",
            "Asientos disponibles: 100\n",
            "Pasajeros reservados: \n",
            "Reserva realizada para Pasajero 1 en el vuelo V123\n",
            "Reserva realizada para Pasajero 2 en el vuelo V123\n",
            "Vuelo V123 de Nueva York a Los Ángeles\n",
            "Capacidad máxima de pasajeros: 100\n",
            "Asientos disponibles: 98\n",
            "Pasajeros reservados: Pasajero 1, Pasajero 2\n",
            "Precio total de la reserva: $400\n"
          ]
        }
      ]
    }
  ]
}