{
  "nbformat": 4,
  "nbformat_minor": 0,
  "metadata": {
    "colab": {
      "provenance": [],
      "authorship_tag": "ABX9TyP1vBAmE/wi7Xa/xTNhiloF",
      "include_colab_link": true
    },
    "kernelspec": {
      "name": "python3",
      "display_name": "Python 3"
    },
    "language_info": {
      "name": "python"
    }
  },
  "cells": [
    {
      "cell_type": "markdown",
      "metadata": {
        "id": "view-in-github",
        "colab_type": "text"
      },
      "source": [
        "<a href=\"https://colab.research.google.com/github/LyaRB/SenalesySistemas/blob/main/Transformada%20de%20Laplace/An%C3%A1lisis_de_redes_RLC_paralelo.ipynb\" target=\"_parent\"><img src=\"https://colab.research.google.com/assets/colab-badge.svg\" alt=\"Open In Colab\"/></a>"
      ]
    },
    {
      "cell_type": "code",
      "execution_count": 2,
      "metadata": {
        "id": "2_I9C8GyLbSj"
      },
      "outputs": [],
      "source": [
        "import sympy as sym\n",
        "import matplotlib.pyplot as plt\n",
        "import sympy.physics.control as control\n",
        "\n",
        "sym.init_printing()"
      ]
    },
    {
      "cell_type": "code",
      "source": [
        "s = sym.symbols('s', complex=True)\n",
        "t, R, L, C = sym.symbols('t R L C', positive=True)\n",
        "#Entrada de interés en Laplace\n",
        "X = 1/s # Fuente de corriente en AC, función seno\n",
        "X = sym.Function('X')(s)\n",
        "#función de salida Y(s) = H(s)X(s\n",
        "Y = 1/(L*C*s**2 + (L/R)*s + 1) * X\n",
        "Y"
      ],
      "metadata": {
        "colab": {
          "base_uri": "https://localhost:8080/",
          "height": 60
        },
        "id": "igfpGyZoLxY4",
        "outputId": "bb3cc36e-ce51-4d68-a527-57e8f0235bfa"
      },
      "execution_count": 3,
      "outputs": [
        {
          "output_type": "execute_result",
          "data": {
            "text/plain": [
              "      X(s)      \n",
              "────────────────\n",
              "     2   L⋅s    \n",
              "C⋅L⋅s  + ─── + 1\n",
              "          R     "
            ],
            "text/latex": "$\\displaystyle \\frac{X{\\left(s \\right)}}{C L s^{2} + \\frac{L s}{R} + 1}$"
          },
          "metadata": {},
          "execution_count": 3
        }
      ]
    },
    {
      "cell_type": "code",
      "source": [
        "RLC = {R: 1, L: sym.Rational('.5'), C: sym.Rational('.4')}\n",
        "\n",
        "y = sym.inverse_laplace_transform(Y.subs(RLC).subs(X, 1/s), s, t)#recuerde que puede aplicar fracciones parciales para facilitar los cálculos\n",
        "y"
      ],
      "metadata": {
        "colab": {
          "base_uri": "https://localhost:8080/",
          "height": 75
        },
        "id": "kkCmFBcmOoNR",
        "outputId": "4f791009-7dfe-424e-f6a3-aaba017705c7"
      },
      "execution_count": 4,
      "outputs": [
        {
          "output_type": "execute_result",
          "data": {
            "text/plain": [
              "         -5⋅t                                \n",
              "         ─────                               \n",
              "           4      ⎛√55⋅t⎞    -5⋅t            \n",
              "    √55⋅ℯ     ⋅sin⎜─────⎟    ─────           \n",
              "                  ⎝  4  ⎠      4      ⎛√55⋅t⎞\n",
              "1 - ───────────────────── - ℯ     ⋅cos⎜─────⎟\n",
              "              11                      ⎝  4  ⎠"
            ],
            "text/latex": "$\\displaystyle 1 - \\frac{\\sqrt{55} e^{- \\frac{5 t}{4}} \\sin{\\left(\\frac{\\sqrt{55} t}{4} \\right)}}{11} - e^{- \\frac{5 t}{4}} \\cos{\\left(\\frac{\\sqrt{55} t}{4} \\right)}$"
          },
          "metadata": {},
          "execution_count": 4
        }
      ]
    },
    {
      "cell_type": "code",
      "source": [
        "#función de salida en Laplace factorizada\n",
        "YS = y.simplify()\n",
        "YS"
      ],
      "metadata": {
        "colab": {
          "base_uri": "https://localhost:8080/",
          "height": 80
        },
        "id": "T1ZlKvl3OPWE",
        "outputId": "d8f8a87a-1fec-4401-8a20-3750f55f3b75"
      },
      "execution_count": 5,
      "outputs": [
        {
          "output_type": "execute_result",
          "data": {
            "text/plain": [
              "⎛ 5⋅t          ⎛√55⋅t⎞             ⎞  -5⋅t \n",
              "⎜ ───   √55⋅sin⎜─────⎟             ⎟  ─────\n",
              "⎜  4           ⎝  4  ⎠      ⎛√55⋅t⎞⎟    4  \n",
              "⎜ℯ    - ────────────── - cos⎜─────⎟⎟⋅ℯ     \n",
              "⎝             11            ⎝  4  ⎠⎠       "
            ],
            "text/latex": "$\\displaystyle \\left(e^{\\frac{5 t}{4}} - \\frac{\\sqrt{55} \\sin{\\left(\\frac{\\sqrt{55} t}{4} \\right)}}{11} - \\cos{\\left(\\frac{\\sqrt{55} t}{4} \\right)}\\right) e^{- \\frac{5 t}{4}}$"
          },
          "metadata": {},
          "execution_count": 5
        }
      ]
    },
    {
      "cell_type": "code",
      "source": [
        "sym.plot(YS, (t, 0, 5), xlabel='$t$', ylabel='$y(t)$');"
      ],
      "metadata": {
        "colab": {
          "base_uri": "https://localhost:8080/",
          "height": 484
        },
        "id": "1RzfPWA8O1bY",
        "outputId": "36405fa5-49f1-49cc-f982-04d18c2c7fa9"
      },
      "execution_count": 6,
      "outputs": [
        {
          "output_type": "display_data",
          "data": {
            "text/plain": [
              "<Figure size 640x480 with 1 Axes>"
            ],
            "image/png": "[encoded data removed]"
          },
          "metadata": {}
        }
      ]
    },
    {
      "cell_type": "code",
      "source": [
        "i0, y0 = sym.symbols('i0 y0', real=True)\n",
        "\n",
        "Yint = (R*C + L*C*s) / (L*C*s**2 + (L/R)*s + 1) * y0 + L / (L*C*s**2 + (L/R)*s + 1) * i0\n",
        "Yint"
      ],
      "metadata": {
        "colab": {
          "base_uri": "https://localhost:8080/",
          "height": 60
        },
        "id": "ACAOivL-Isqg",
        "outputId": "72d869d3-056b-4992-9f78-30f673e9cb37"
      },
      "execution_count": 7,
      "outputs": [
        {
          "output_type": "execute_result",
          "data": {
            "text/plain": [
              "      L⋅i₀         y₀⋅(C⋅L⋅s + C⋅R)\n",
              "──────────────── + ────────────────\n",
              "     2   L⋅s            2   L⋅s    \n",
              "C⋅L⋅s  + ─── + 1   C⋅L⋅s  + ─── + 1\n",
              "          R                  R     "
            ],
            "text/latex": "$\\displaystyle \\frac{L i_{0}}{C L s^{2} + \\frac{L s}{R} + 1} + \\frac{y_{0} \\left(C L s + C R\\right)}{C L s^{2} + \\frac{L s}{R} + 1}$"
          },
          "metadata": {},
          "execution_count": 7
        }
      ]
    },
    {
      "cell_type": "code",
      "source": [
        "yint = sym.inverse_laplace_transform(Yint.subs(RLC).subs(i0, 0).subs(y0, -1), s, t) #transformada inversa para los valores iniciales\n",
        "yint"
      ],
      "metadata": {
        "colab": {
          "base_uri": "https://localhost:8080/",
          "height": 75
        },
        "id": "Kmi9qHAaJbkV",
        "outputId": "c101ab18-b320-4a76-e81e-2685443fa43a"
      },
      "execution_count": 10,
      "outputs": [
        {
          "output_type": "execute_result",
          "data": {
            "text/plain": [
              "         -5⋅t                                \n",
              "         ─────                               \n",
              "           4      ⎛√55⋅t⎞    -5⋅t            \n",
              "  3⋅√55⋅ℯ     ⋅sin⎜─────⎟    ─────           \n",
              "                  ⎝  4  ⎠      4      ⎛√55⋅t⎞\n",
              "- ─────────────────────── - ℯ     ⋅cos⎜─────⎟\n",
              "             55                       ⎝  4  ⎠"
            ],
            "text/latex": "$\\displaystyle - \\frac{3 \\sqrt{55} e^{- \\frac{5 t}{4}} \\sin{\\left(\\frac{\\sqrt{55} t}{4} \\right)}}{55} - e^{- \\frac{5 t}{4}} \\cos{\\left(\\frac{\\sqrt{55} t}{4} \\right)}$"
          },
          "metadata": {},
          "execution_count": 10
        }
      ]
    },
    {
      "cell_type": "code",
      "source": [
        "y = y + yint\n",
        "y.simplify()"
      ],
      "metadata": {
        "colab": {
          "base_uri": "https://localhost:8080/",
          "height": 80
        },
        "id": "AAoNrxqYJfoP",
        "outputId": "b465008a-3692-49b0-8970-e67739341512"
      },
      "execution_count": 11,
      "outputs": [
        {
          "output_type": "execute_result",
          "data": {
            "text/plain": [
              "⎛ 5⋅t            ⎛√55⋅t⎞               ⎞  -5⋅t \n",
              "⎜ ───   8⋅√55⋅sin⎜─────⎟               ⎟  ─────\n",
              "⎜  4             ⎝  4  ⎠        ⎛√55⋅t⎞⎟    4  \n",
              "⎜ℯ    - ──────────────── - 2⋅cos⎜─────⎟⎟⋅ℯ     \n",
              "⎝              55               ⎝  4  ⎠⎠       "
            ],
            "text/latex": "$\\displaystyle \\left(e^{\\frac{5 t}{4}} - \\frac{8 \\sqrt{55} \\sin{\\left(\\frac{\\sqrt{55} t}{4} \\right)}}{55} - 2 \\cos{\\left(\\frac{\\sqrt{55} t}{4} \\right)}\\right) e^{- \\frac{5 t}{4}}$"
          },
          "metadata": {},
          "execution_count": 11
        }
      ]
    },
    {
      "cell_type": "code",
      "source": [
        "p1 = sym.plot(y, (t, 0, 5), line_color='b', xlabel='$t$', ylabel='$y(t)$', show=False)\n",
        "p2 = sym.plot(yint, (t, 0, 5), line_color='g', show=False)\n",
        "p1.extend(p1)\n",
        "p1.extend(p2)\n",
        "p1.show()"
      ],
      "metadata": {
        "colab": {
          "base_uri": "https://localhost:8080/",
          "height": 487
        },
        "id": "3tFjuwg9JkJK",
        "outputId": "89f08197-f2ef-4865-c2a5-6be033e0f23c"
      },
      "execution_count": 12,
      "outputs": [
        {
          "output_type": "display_data",
          "data": {
            "text/plain": [
              "<Figure size 640x480 with 1 Axes>"
            ],
            "image/png": "[encoded data removed]"
          },
          "metadata": {}
        }
      ]
    }
  ]
}